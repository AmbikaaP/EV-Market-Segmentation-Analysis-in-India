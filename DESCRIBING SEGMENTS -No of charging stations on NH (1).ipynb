{
 "cells": [
  {
   "cell_type": "markdown",
   "id": "9b1ff397-1c8b-4216-8792-22fb6408c443",
   "metadata": {},
   "source": [
    "#DESCRIBING SEGMENTS -Number of EV charging Stations on National Highways"
   ]
  },
  {
   "cell_type": "code",
   "execution_count": 88,
   "id": "8a483dfa-eb20-4fee-9dd5-f7bd27d2a1d2",
   "metadata": {},
   "outputs": [],
   "source": [
    "#step :1 LOAD DATASET"
   ]
  },
  {
   "cell_type": "code",
   "execution_count": null,
   "id": "b0e685cc-4f9b-4005-9872-504c72263e7e",
   "metadata": {},
   "outputs": [],
   "source": [
    "import pandas as pd"
   ]
  },
  {
   "cell_type": "code",
   "execution_count": 3,
   "id": "e857efd0-2df3-4083-bc18-57f3a1bca8ea",
   "metadata": {},
   "outputs": [
    {
     "data": {
      "text/html": [
       "<div>\n",
       "<style scoped>\n",
       "    .dataframe tbody tr th:only-of-type {\n",
       "        vertical-align: middle;\n",
       "    }\n",
       "\n",
       "    .dataframe tbody tr th {\n",
       "        vertical-align: top;\n",
       "    }\n",
       "\n",
       "    .dataframe thead th {\n",
       "        text-align: right;\n",
       "    }\n",
       "</style>\n",
       "<table border=\"1\" class=\"dataframe\">\n",
       "  <thead>\n",
       "    <tr style=\"text-align: right;\">\n",
       "      <th></th>\n",
       "      <th>Sl. No.</th>\n",
       "      <th>State/UTs</th>\n",
       "      <th>Number of EV charging Stations on National Highways</th>\n",
       "    </tr>\n",
       "  </thead>\n",
       "  <tbody>\n",
       "    <tr>\n",
       "      <th>0</th>\n",
       "      <td>1</td>\n",
       "      <td>Andaman and Nicobar Islands</td>\n",
       "      <td>1</td>\n",
       "    </tr>\n",
       "    <tr>\n",
       "      <th>1</th>\n",
       "      <td>2</td>\n",
       "      <td>Andhra Pradesh</td>\n",
       "      <td>249</td>\n",
       "    </tr>\n",
       "    <tr>\n",
       "      <th>2</th>\n",
       "      <td>3</td>\n",
       "      <td>Arunachal Pradesh</td>\n",
       "      <td>30</td>\n",
       "    </tr>\n",
       "    <tr>\n",
       "      <th>3</th>\n",
       "      <td>4</td>\n",
       "      <td>Assam</td>\n",
       "      <td>147</td>\n",
       "    </tr>\n",
       "    <tr>\n",
       "      <th>4</th>\n",
       "      <td>5</td>\n",
       "      <td>Bihar</td>\n",
       "      <td>96</td>\n",
       "    </tr>\n",
       "  </tbody>\n",
       "</table>\n",
       "</div>"
      ],
      "text/plain": [
       "  Sl. No.                    State/UTs  \\\n",
       "0       1  Andaman and Nicobar Islands   \n",
       "1       2               Andhra Pradesh   \n",
       "2       3            Arunachal Pradesh   \n",
       "3       4                        Assam   \n",
       "4       5                        Bihar   \n",
       "\n",
       "   Number of EV charging Stations on National Highways  \n",
       "0                                                  1    \n",
       "1                                                249    \n",
       "2                                                 30    \n",
       "3                                                147    \n",
       "4                                                 96    "
      ]
     },
     "execution_count": 3,
     "metadata": {},
     "output_type": "execute_result"
    }
   ],
   "source": [
    "data = pd.read_csv(\"Number of EV charging Stations on National Highways.csv\")\n",
    "data.head()"
   ]
  },
  {
   "cell_type": "code",
   "execution_count": 5,
   "id": "74517984-c9ec-4acf-9833-4374c9b7d8b8",
   "metadata": {},
   "outputs": [
    {
     "data": {
      "text/html": [
       "<div>\n",
       "<style scoped>\n",
       "    .dataframe tbody tr th:only-of-type {\n",
       "        vertical-align: middle;\n",
       "    }\n",
       "\n",
       "    .dataframe tbody tr th {\n",
       "        vertical-align: top;\n",
       "    }\n",
       "\n",
       "    .dataframe thead th {\n",
       "        text-align: right;\n",
       "    }\n",
       "</style>\n",
       "<table border=\"1\" class=\"dataframe\">\n",
       "  <thead>\n",
       "    <tr style=\"text-align: right;\">\n",
       "      <th></th>\n",
       "      <th>Sl. No.</th>\n",
       "      <th>State/UTs</th>\n",
       "      <th>Number of EV charging Stations on National Highways</th>\n",
       "    </tr>\n",
       "  </thead>\n",
       "  <tbody>\n",
       "    <tr>\n",
       "      <th>29</th>\n",
       "      <td>30</td>\n",
       "      <td>Tripura</td>\n",
       "      <td>24</td>\n",
       "    </tr>\n",
       "    <tr>\n",
       "      <th>30</th>\n",
       "      <td>31</td>\n",
       "      <td>Uttar Pradesh</td>\n",
       "      <td>577</td>\n",
       "    </tr>\n",
       "    <tr>\n",
       "      <th>31</th>\n",
       "      <td>32</td>\n",
       "      <td>Uttarakhand</td>\n",
       "      <td>79</td>\n",
       "    </tr>\n",
       "    <tr>\n",
       "      <th>32</th>\n",
       "      <td>33</td>\n",
       "      <td>West Bengal</td>\n",
       "      <td>208</td>\n",
       "    </tr>\n",
       "    <tr>\n",
       "      <th>33</th>\n",
       "      <td>Grand Total</td>\n",
       "      <td>Grand Total</td>\n",
       "      <td>5293</td>\n",
       "    </tr>\n",
       "  </tbody>\n",
       "</table>\n",
       "</div>"
      ],
      "text/plain": [
       "        Sl. No.      State/UTs  \\\n",
       "29           30        Tripura   \n",
       "30           31  Uttar Pradesh   \n",
       "31           32    Uttarakhand   \n",
       "32           33    West Bengal   \n",
       "33  Grand Total    Grand Total   \n",
       "\n",
       "    Number of EV charging Stations on National Highways  \n",
       "29                                                 24    \n",
       "30                                                577    \n",
       "31                                                 79    \n",
       "32                                                208    \n",
       "33                                               5293    "
      ]
     },
     "execution_count": 5,
     "metadata": {},
     "output_type": "execute_result"
    }
   ],
   "source": [
    "data.tail()"
   ]
  },
  {
   "cell_type": "code",
   "execution_count": 7,
   "id": "84739601-3767-4b13-b983-c27a9fa4e511",
   "metadata": {},
   "outputs": [
    {
     "data": {
      "text/plain": [
       "Sl. No.                                                0\n",
       "State/UTs                                              0\n",
       "Number of EV charging Stations on National Highways    0\n",
       "dtype: int64"
      ]
     },
     "execution_count": 7,
     "metadata": {},
     "output_type": "execute_result"
    }
   ],
   "source": [
    "data.isnull().sum()"
   ]
  },
  {
   "cell_type": "code",
   "execution_count": 9,
   "id": "4845ed6a-0f2e-467b-b176-914f8c6e16e5",
   "metadata": {},
   "outputs": [
    {
     "data": {
      "text/html": [
       "<div>\n",
       "<style scoped>\n",
       "    .dataframe tbody tr th:only-of-type {\n",
       "        vertical-align: middle;\n",
       "    }\n",
       "\n",
       "    .dataframe tbody tr th {\n",
       "        vertical-align: top;\n",
       "    }\n",
       "\n",
       "    .dataframe thead th {\n",
       "        text-align: right;\n",
       "    }\n",
       "</style>\n",
       "<table border=\"1\" class=\"dataframe\">\n",
       "  <thead>\n",
       "    <tr style=\"text-align: right;\">\n",
       "      <th></th>\n",
       "      <th>Number of EV charging Stations on National Highways</th>\n",
       "    </tr>\n",
       "  </thead>\n",
       "  <tbody>\n",
       "    <tr>\n",
       "      <th>count</th>\n",
       "      <td>34.000000</td>\n",
       "    </tr>\n",
       "    <tr>\n",
       "      <th>mean</th>\n",
       "      <td>311.352941</td>\n",
       "    </tr>\n",
       "    <tr>\n",
       "      <th>std</th>\n",
       "      <td>897.689961</td>\n",
       "    </tr>\n",
       "    <tr>\n",
       "      <th>min</th>\n",
       "      <td>1.000000</td>\n",
       "    </tr>\n",
       "    <tr>\n",
       "      <th>25%</th>\n",
       "      <td>27.750000</td>\n",
       "    </tr>\n",
       "    <tr>\n",
       "      <th>50%</th>\n",
       "      <td>106.000000</td>\n",
       "    </tr>\n",
       "    <tr>\n",
       "      <th>75%</th>\n",
       "      <td>244.500000</td>\n",
       "    </tr>\n",
       "    <tr>\n",
       "      <th>max</th>\n",
       "      <td>5293.000000</td>\n",
       "    </tr>\n",
       "  </tbody>\n",
       "</table>\n",
       "</div>"
      ],
      "text/plain": [
       "       Number of EV charging Stations on National Highways\n",
       "count                                          34.000000  \n",
       "mean                                          311.352941  \n",
       "std                                           897.689961  \n",
       "min                                             1.000000  \n",
       "25%                                            27.750000  \n",
       "50%                                           106.000000  \n",
       "75%                                           244.500000  \n",
       "max                                          5293.000000  "
      ]
     },
     "execution_count": 9,
     "metadata": {},
     "output_type": "execute_result"
    }
   ],
   "source": [
    "data.describe()"
   ]
  },
  {
   "cell_type": "code",
   "execution_count": null,
   "id": "360d2265-b8e3-4529-95ab-7d6e8be3dc3e",
   "metadata": {},
   "outputs": [],
   "source": [
    "#Step 2: Develop a Complete Picture of Market Segments"
   ]
  },
  {
   "cell_type": "code",
   "execution_count": 13,
   "id": "059c0e5a-c3da-4b1d-a9d4-1e10aac897ee",
   "metadata": {},
   "outputs": [],
   "source": [
    "from sklearn.cluster import KMeans\n",
    "from sklearn.preprocessing import StandardScaler"
   ]
  },
  {
   "cell_type": "code",
   "execution_count": 15,
   "id": "2bb0ab21-4dfa-4965-a102-5933869c4285",
   "metadata": {},
   "outputs": [
    {
     "name": "stderr",
     "output_type": "stream",
     "text": [
      "C:\\Users\\Welcome\\anaconda3\\Lib\\site-packages\\sklearn\\cluster\\_kmeans.py:1429: UserWarning: KMeans is known to have a memory leak on Windows with MKL, when there are less chunks than available threads. You can avoid it by setting the environment variable OMP_NUM_THREADS=1.\n",
      "  warnings.warn(\n"
     ]
    },
    {
     "name": "stdout",
     "output_type": "stream",
     "text": [
      "segment\n",
      "0    29\n",
      "2     4\n",
      "1     1\n",
      "Name: count, dtype: int64\n"
     ]
    }
   ],
   "source": [
    "# Preprocessing: Select relevant numeric columns for clustering\n",
    "numeric_columns = data.select_dtypes(include=['float64', 'int64']).columns\n",
    "scaler = StandardScaler()\n",
    "scaled_data = scaler.fit_transform(data[numeric_columns])\n",
    "# Apply K-Means clustering\n",
    "kmeans = KMeans(n_clusters=3, random_state=42)\n",
    "data['segment'] = kmeans.fit_predict(scaled_data)\n",
    "\n",
    "# Check segment distribution\n",
    "print(data['segment'].value_counts())"
   ]
  },
  {
   "cell_type": "code",
   "execution_count": 29,
   "id": "55506e76-10ee-49c9-b28f-ba8aa763fa2f",
   "metadata": {},
   "outputs": [
    {
     "name": "stdout",
     "output_type": "stream",
     "text": [
      "Index(['Sl. No.', 'State/UTs',\n",
      "       'Number of EV charging Stations on National Highways', 'segment'],\n",
      "      dtype='object')\n"
     ]
    }
   ],
   "source": [
    "print(data.columns)"
   ]
  },
  {
   "cell_type": "code",
   "execution_count": 17,
   "id": "849ea029-0f28-4819-9524-9129a9fd5f11",
   "metadata": {},
   "outputs": [],
   "source": [
    "#Step 3: Visualizations to Describe Market Segments"
   ]
  },
  {
   "cell_type": "code",
   "execution_count": 31,
   "id": "add5a298-0000-4de0-a1fc-608f0486cbf8",
   "metadata": {},
   "outputs": [],
   "source": [
    "import seaborn as sns\n",
    "import matplotlib.pyplot as plt"
   ]
  },
  {
   "cell_type": "code",
   "execution_count": 33,
   "id": "a4bf3c24-c167-4048-87df-1f25d67b9de8",
   "metadata": {},
   "outputs": [
    {
     "data": {
      "image/png": "[encoded data removed]",
      "text/plain": [
       "<Figure size 640x480 with 1 Axes>"
      ]
     },
     "metadata": {},
     "output_type": "display_data"
    }
   ],
   "source": [
    "#count plot for a nominal variable by segments\n",
    "sns.countplot(x='segment', hue='segment', data=data)\n",
    "plt.title(\"Segment Distribution by Nominal Variable\")\n",
    "plt.show()\n"
   ]
  },
  {
   "cell_type": "code",
   "execution_count": 43,
   "id": "c95ce961-02cb-4576-9f11-d139e075ee51",
   "metadata": {},
   "outputs": [
    {
     "data": {
      "image/png": "[encoded data removed]",
      "text/plain": [
       "<Figure size 640x480 with 1 Axes>"
      ]
     },
     "metadata": {},
     "output_type": "display_data"
    }
   ],
   "source": [
    "#Metric Variables:VISUALIZATION BOXPLOT FOR METRIC VARIABLE BY SEGMENT\n",
    "sns.boxplot(x=\"segment\",y=\"Number of EV charging Stations on National Highways\",data=data)\n",
    "plt.title(\"Metric Variable by Segment\")\n",
    "plt.show()\n"
   ]
  },
  {
   "cell_type": "code",
   "execution_count": 45,
   "id": "f1280e8a-a9cd-4549-bbc0-2b3c634b65d1",
   "metadata": {},
   "outputs": [],
   "source": [
    "#Step 4: Testing for Segment Differences"
   ]
  },
  {
   "cell_type": "code",
   "execution_count": 55,
   "id": "5cb65a7e-afc8-49b4-9de5-cee0b69c44f9",
   "metadata": {},
   "outputs": [
    {
     "name": "stdout",
     "output_type": "stream",
     "text": [
      "ANOVA Test: F-statistic = 1153.5770156956498, p-value = 7.91722388877424e-30\n"
     ]
    }
   ],
   "source": [
    "#ANOVA for metric variables:\n",
    "# Testing a metric variable across metric by segments\n",
    "from scipy.stats import f_oneway\n",
    "grouped = [data[data['segment'] == i]['Number of EV charging Stations on National Highways'] for i in range(3)]\n",
    "f_stat, p_value = f_oneway(*grouped)\n",
    "print(f\"ANOVA Test: F-statistic = {f_stat}, p-value = {p_value}\")"
   ]
  },
  {
   "cell_type": "code",
   "execution_count": 61,
   "id": "8fc6398c-7c05-47e6-b4cc-a3c3d126a124",
   "metadata": {},
   "outputs": [
    {
     "name": "stdout",
     "output_type": "stream",
     "text": [
      "Chi-Square Test: Chi2 = 68.0 , p = 0.3426967652579077\n"
     ]
    }
   ],
   "source": [
    "#Chi-square test for nominal/ordinal variables:\n",
    "import pandas as pd\n",
    "from scipy.stats import chi2_contingency\n",
    "\n",
    "#Testing nominal variable across segments\n",
    "contingency_table = pd.crosstab(data['Number of EV charging Stations on National Highways'], data['segment'])\n",
    "chi2, p, dof, expected = chi2_contingency(contingency_table)\n",
    "print(f\"Chi-Square Test: Chi2 = {chi2} , p = {p}\")\n"
   ]
  },
  {
   "cell_type": "code",
   "execution_count": 63,
   "id": "46405ebc-1703-42c5-bb5a-e0bf7c1d08ee",
   "metadata": {},
   "outputs": [],
   "source": [
    "#Step 5: Predicting Segments"
   ]
  },
  {
   "cell_type": "code",
   "execution_count": 73,
   "id": "2e27e23f-b459-4eda-be16-aa21aff539d6",
   "metadata": {},
   "outputs": [],
   "source": [
    "#Binary Logistic Regression:\n",
    "\n",
    "from sklearn.linear_model import LogisticRegression\n",
    "from sklearn.model_selection import train_test_split\n",
    "from sklearn.metrics import classification_report"
   ]
  },
  {
   "cell_type": "code",
   "execution_count": 75,
   "id": "359b1fdd-d70a-4f30-a901-d9118f4b3f66",
   "metadata": {},
   "outputs": [
    {
     "name": "stdout",
     "output_type": "stream",
     "text": [
      "              precision    recall  f1-score   support\n",
      "\n",
      "           0       1.00      1.00      1.00         9\n",
      "\n",
      "    accuracy                           1.00         9\n",
      "   macro avg       1.00      1.00      1.00         9\n",
      "weighted avg       1.00      1.00      1.00         9\n",
      "\n"
     ]
    }
   ],
   "source": [
    "\n",
    "# Filter binary data\n",
    "binary_data = data[data['segment'].isin([0, 1])]\n",
    "\n",
    "# Split data\n",
    "X = binary_data[['Number of EV charging Stations on National Highways']]  \n",
    "y = binary_data['segment']\n",
    "X_train, X_test, y_train, y_test = train_test_split(X, y, test_size=0.3, random_state=42)\n",
    "\n",
    "# Train logistic regression model\n",
    "log_reg = LogisticRegression()\n",
    "log_reg.fit(X_train, y_train)\n",
    "\n",
    "# Evaluate model\n",
    "y_pred = log_reg.predict(X_test)\n",
    "print(classification_report(y_test, y_pred))\n"
   ]
  },
  {
   "cell_type": "code",
   "execution_count": 78,
   "id": "9eda8954-83b2-4e5a-aff1-4ca9acd0bdaf",
   "metadata": {},
   "outputs": [],
   "source": [
    "#Multinomial Logistic Regression:"
   ]
  },
  {
   "cell_type": "code",
   "execution_count": 80,
   "id": "9ddc7b11-efc3-41fc-9153-44d205438cce",
   "metadata": {},
   "outputs": [
    {
     "name": "stdout",
     "output_type": "stream",
     "text": [
      "              precision    recall  f1-score   support\n",
      "\n",
      "           0       1.00      1.00      1.00         9\n",
      "\n",
      "    accuracy                           1.00         9\n",
      "   macro avg       1.00      1.00      1.00         9\n",
      "weighted avg       1.00      1.00      1.00         9\n",
      "\n"
     ]
    },
    {
     "name": "stderr",
     "output_type": "stream",
     "text": [
      "C:\\Users\\Welcome\\anaconda3\\Lib\\site-packages\\sklearn\\linear_model\\_logistic.py:1237: FutureWarning: 'multi_class' was deprecated in version 1.5 and will be removed in 1.7. From then on, binary problems will be fit as proper binary  logistic regression models (as if multi_class='ovr' were set). Leave it to its default value to avoid this warning.\n",
      "  warnings.warn(\n"
     ]
    }
   ],
   "source": [
    "# Use LogisticRegression with multi-class enabled\n",
    "multi_log_reg = LogisticRegression(multi_class='multinomial', solver='lbfgs')\n",
    "multi_log_reg.fit(X_train, y_train)\n",
    "\n",
    "# Evaluate multinomial model\n",
    "y_pred_multi = multi_log_reg.predict(X_test)\n",
    "print(classification_report(y_test, y_pred_multi))\n"
   ]
  },
  {
   "cell_type": "code",
   "execution_count": 82,
   "id": "28b6e823-b571-4e07-b00c-16c2b978408b",
   "metadata": {},
   "outputs": [],
   "source": [
    "#Tree-Based Methods:"
   ]
  },
  {
   "cell_type": "code",
   "execution_count": 84,
   "id": "111df5f8-69dc-469e-a8b4-680285fc18e5",
   "metadata": {},
   "outputs": [],
   "source": [
    "from sklearn.ensemble import RandomForestClassifier"
   ]
  },
  {
   "cell_type": "code",
   "execution_count": 85,
   "id": "45d8b2c3-e1c0-4936-8af8-0cce0fda0f6f",
   "metadata": {},
   "outputs": [
    {
     "name": "stdout",
     "output_type": "stream",
     "text": [
      "              precision    recall  f1-score   support\n",
      "\n",
      "           0       1.00      1.00      1.00         9\n",
      "\n",
      "    accuracy                           1.00         9\n",
      "   macro avg       1.00      1.00      1.00         9\n",
      "weighted avg       1.00      1.00      1.00         9\n",
      "\n"
     ]
    }
   ],
   "source": [
    "\n",
    "# Train Random Forest\n",
    "rf_model = RandomForestClassifier(random_state=42)\n",
    "rf_model.fit(X_train, y_train)\n",
    "\n",
    "# Evaluate Random Forest\n",
    "y_pred_rf = rf_model.predict(X_test)\n",
    "print(classification_report(y_test, y_pred_rf))\n"
   ]
  },
  {
   "cell_type": "code",
   "execution_count": null,
   "id": "d8f083b8-44bf-44e7-9dfb-dab8474a62cf",
   "metadata": {},
   "outputs": [],
   "source": []
  }
 ],
 "metadata": {
  "kernelspec": {
   "display_name": "Python 3 (ipykernel)",
   "language": "python",
   "name": "python3"
  },
  "language_info": {
   "codemirror_mode": {
    "name": "ipython",
    "version": 3
   },
   "file_extension": ".py",
   "mimetype": "text/x-python",
   "name": "python",
   "nbconvert_exporter": "python",
   "pygments_lexer": "ipython3",
   "version": "3.12.7"
  }
 },
 "nbformat": 4,
 "nbformat_minor": 5
}
